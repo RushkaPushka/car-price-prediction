{
 "cells": [
  {
   "cell_type": "code",
   "execution_count": 3,
   "metadata": {
    "id": "3522smFellpy"
   },
   "outputs": [],
   "source": [
    "import numpy as np\n",
    "import pandas as pd"
   ]
  },
  {
   "cell_type": "code",
   "execution_count": 5,
   "metadata": {
    "id": "8NPz_HEPlpMp"
   },
   "outputs": [],
   "source": [
    "# загружу csv файлы\n",
    "fulfilment_center_info = pd.read_csv('fulfilment_center_info.csv')\n",
    "meal_info = pd.read_csv('meal_info.csv')\n",
    "train = pd.read_csv('train.csv')"
   ]
  },
  {
   "cell_type": "code",
   "execution_count": 7,
   "metadata": {},
   "outputs": [
    {
     "data": {
      "text/plain": [
       "(456548, 9)"
      ]
     },
     "execution_count": 7,
     "metadata": {},
     "output_type": "execute_result"
    }
   ],
   "source": [
    "train.shape"
   ]
  },
  {
   "cell_type": "code",
   "execution_count": 8,
   "metadata": {},
   "outputs": [
    {
     "name": "stdout",
     "output_type": "stream",
     "text": [
      "   center_id  city_code  region_code center_type  op_area\n",
      "0         11        679           56      TYPE_A      3.7\n",
      "1         13        590           56      TYPE_B      6.7\n",
      "2        124        590           56      TYPE_C      4.0\n",
      "3         66        648           34      TYPE_A      4.1\n",
      "4         94        632           34      TYPE_C      3.6\n",
      "<class 'pandas.core.frame.DataFrame'>\n",
      "RangeIndex: 77 entries, 0 to 76\n",
      "Data columns (total 5 columns):\n",
      " #   Column       Non-Null Count  Dtype  \n",
      "---  ------       --------------  -----  \n",
      " 0   center_id    77 non-null     int64  \n",
      " 1   city_code    77 non-null     int64  \n",
      " 2   region_code  77 non-null     int64  \n",
      " 3   center_type  77 non-null     object \n",
      " 4   op_area      77 non-null     float64\n",
      "dtypes: float64(1), int64(3), object(1)\n",
      "memory usage: 3.1+ KB\n",
      "None\n",
      "        center_id   city_code  region_code    op_area\n",
      "count   77.000000   77.000000    77.000000  77.000000\n",
      "mean    83.142857  600.662338    56.493506   3.985714\n",
      "std     46.090219   66.720274    18.126473   1.106406\n",
      "min     10.000000  456.000000    23.000000   0.900000\n",
      "25%     50.000000  553.000000    34.000000   3.500000\n",
      "50%     77.000000  596.000000    56.000000   3.900000\n",
      "75%    110.000000  651.000000    77.000000   4.400000\n",
      "max    186.000000  713.000000    93.000000   7.000000\n"
     ]
    }
   ],
   "source": [
    "# Explore Fulfilment Center Info\n",
    "print(fulfilment_center_info.head())  # Prints the first 5 rows\n",
    "print(fulfilment_center_info.info())  # Gives the summary information including data types and non-null counts\n",
    "print(fulfilment_center_info.describe())  # Provides descriptive statistics for numerical columns"
   ]
  },
  {
   "cell_type": "code",
   "execution_count": 9,
   "metadata": {},
   "outputs": [
    {
     "name": "stdout",
     "output_type": "stream",
     "text": [
      "   meal_id   category cuisine\n",
      "0     1885  Beverages    Thai\n",
      "1     1993  Beverages    Thai\n",
      "2     2539  Beverages    Thai\n",
      "3     1248  Beverages  Indian\n",
      "4     2631  Beverages  Indian\n",
      "<class 'pandas.core.frame.DataFrame'>\n",
      "RangeIndex: 51 entries, 0 to 50\n",
      "Data columns (total 3 columns):\n",
      " #   Column    Non-Null Count  Dtype \n",
      "---  ------    --------------  ----- \n",
      " 0   meal_id   51 non-null     int64 \n",
      " 1   category  51 non-null     object\n",
      " 2   cuisine   51 non-null     object\n",
      "dtypes: int64(1), object(2)\n",
      "memory usage: 1.3+ KB\n",
      "None\n",
      "           meal_id\n",
      "count    51.000000\n",
      "mean   2013.921569\n",
      "std     553.633555\n",
      "min    1062.000000\n",
      "25%    1550.500000\n",
      "50%    1971.000000\n",
      "75%    2516.500000\n",
      "max    2956.000000\n"
     ]
    }
   ],
   "source": [
    "# Explore Meal Info\n",
    "print(meal_info.head())\n",
    "print(meal_info.info())\n",
    "print(meal_info.describe())"
   ]
  },
  {
   "cell_type": "code",
   "execution_count": 10,
   "metadata": {},
   "outputs": [
    {
     "name": "stdout",
     "output_type": "stream",
     "text": [
      "        id  week  center_id  meal_id  checkout_price  base_price  \\\n",
      "0  1379560     1         55     1885          136.83      152.29   \n",
      "1  1466964     1         55     1993          136.83      135.83   \n",
      "2  1346989     1         55     2539          134.86      135.86   \n",
      "3  1338232     1         55     2139          339.50      437.53   \n",
      "4  1448490     1         55     2631          243.50      242.50   \n",
      "\n",
      "   emailer_for_promotion  homepage_featured  num_orders  \n",
      "0                      0                  0         177  \n",
      "1                      0                  0         270  \n",
      "2                      0                  0         189  \n",
      "3                      0                  0          54  \n",
      "4                      0                  0          40  \n",
      "<class 'pandas.core.frame.DataFrame'>\n",
      "RangeIndex: 456548 entries, 0 to 456547\n",
      "Data columns (total 9 columns):\n",
      " #   Column                 Non-Null Count   Dtype  \n",
      "---  ------                 --------------   -----  \n",
      " 0   id                     456548 non-null  int64  \n",
      " 1   week                   456548 non-null  int64  \n",
      " 2   center_id              456548 non-null  int64  \n",
      " 3   meal_id                456548 non-null  int64  \n",
      " 4   checkout_price         456548 non-null  float64\n",
      " 5   base_price             456548 non-null  float64\n",
      " 6   emailer_for_promotion  456548 non-null  int64  \n",
      " 7   homepage_featured      456548 non-null  int64  \n",
      " 8   num_orders             456548 non-null  int64  \n",
      "dtypes: float64(2), int64(7)\n",
      "memory usage: 31.3 MB\n",
      "None\n",
      "                 id           week      center_id        meal_id  \\\n",
      "count  4.565480e+05  456548.000000  456548.000000  456548.000000   \n",
      "mean   1.250096e+06      74.768771      82.105796    2024.337458   \n",
      "std    1.443548e+05      41.524956      45.975046     547.420920   \n",
      "min    1.000000e+06       1.000000      10.000000    1062.000000   \n",
      "25%    1.124999e+06      39.000000      43.000000    1558.000000   \n",
      "50%    1.250184e+06      76.000000      76.000000    1993.000000   \n",
      "75%    1.375140e+06     111.000000     110.000000    2539.000000   \n",
      "max    1.499999e+06     145.000000     186.000000    2956.000000   \n",
      "\n",
      "       checkout_price     base_price  emailer_for_promotion  \\\n",
      "count   456548.000000  456548.000000          456548.000000   \n",
      "mean       332.238933     354.156627               0.081152   \n",
      "std        152.939723     160.715914               0.273069   \n",
      "min          2.970000      55.350000               0.000000   \n",
      "25%        228.950000     243.500000               0.000000   \n",
      "50%        296.820000     310.460000               0.000000   \n",
      "75%        445.230000     458.870000               0.000000   \n",
      "max        866.270000     866.270000               1.000000   \n",
      "\n",
      "       homepage_featured     num_orders  \n",
      "count       456548.00000  456548.000000  \n",
      "mean             0.10920     261.872760  \n",
      "std              0.31189     395.922798  \n",
      "min              0.00000      13.000000  \n",
      "25%              0.00000      54.000000  \n",
      "50%              0.00000     136.000000  \n",
      "75%              0.00000     324.000000  \n",
      "max              1.00000   24299.000000  \n"
     ]
    }
   ],
   "source": [
    "print(train.head())\n",
    "print(train.info())\n",
    "print(train.describe())"
   ]
  },
  {
   "cell_type": "code",
   "execution_count": 11,
   "metadata": {},
   "outputs": [
    {
     "name": "stdout",
     "output_type": "stream",
     "text": [
      "(77, 5)\n",
      "(51, 3)\n",
      "(456548, 9)\n"
     ]
    }
   ],
   "source": [
    "# Shape of the dataframes\n",
    "print(fulfilment_center_info.shape)\n",
    "print(meal_info.shape)\n",
    "print(train.shape)"
   ]
  },
  {
   "cell_type": "code",
   "execution_count": null,
   "metadata": {},
   "outputs": [],
   "source": []
  }
 ],
 "metadata": {
  "colab": {
   "provenance": []
  },
  "kernelspec": {
   "display_name": "Python 3 (ipykernel)",
   "language": "python",
   "name": "python3"
  },
  "language_info": {
   "codemirror_mode": {
    "name": "ipython",
    "version": 3
   },
   "file_extension": ".py",
   "mimetype": "text/x-python",
   "name": "python",
   "nbconvert_exporter": "python",
   "pygments_lexer": "ipython3",
   "version": "3.9.13"
  }
 },
 "nbformat": 4,
 "nbformat_minor": 1
}
